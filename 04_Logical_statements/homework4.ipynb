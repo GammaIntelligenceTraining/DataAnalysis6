{
 "cells": [
  {
   "cell_type": "code",
   "execution_count": 5,
   "id": "45f8b9f8-5fa1-4ccd-a28e-9791a22bef1f",
   "metadata": {},
   "outputs": [],
   "source": [
    "# Дан список, каждый элемент которого является годом. Определите, является ли данный год високосным. Если год является високосным, \n",
    "# выведите YES, иначе выведите NO. В соответствии с григорианским календарем, год является високосным, если его номер кратен 4, \n",
    "# но не кратен 100 ИЛИ если он кратен 400.\n",
    "\n",
    "years_list = [2012, 2011, 1492, 1861, 1600, 1700, 1800, 1900, 2000]"
   ]
  },
  {
   "cell_type": "code",
   "execution_count": 2,
   "id": "3db58fc5-ba2f-4b44-a1b8-5adf7e3ae40c",
   "metadata": {
    "tags": []
   },
   "outputs": [],
   "source": [
    "# Даны три переменных, каждая из которых может принимать значение True или False\n",
    "# Напишите программу, которая выдает True, если хотя бы 2 из 3 переменных имеют значение True\n",
    "# Код должен работать для для любых возможных сочетаний значений переменных.\n",
    "\n",
    "var1 = True\n",
    "var2 = False\n",
    "var3 = True"
   ]
  },
  {
   "cell_type": "code",
   "execution_count": 3,
   "id": "a7a96cf2-17ad-4d97-a0c6-d4dcca1037cb",
   "metadata": {
    "tags": []
   },
   "outputs": [],
   "source": [
    "# Напишите программу, запрашивающую у пользователя строку и проверяющую содержит ли данная строка только уникальные символы"
   ]
  }
 ],
 "metadata": {
  "kernelspec": {
   "display_name": "Python 3 (ipykernel)",
   "language": "python",
   "name": "python3"
  },
  "language_info": {
   "codemirror_mode": {
    "name": "ipython",
    "version": 3
   },
   "file_extension": ".py",
   "mimetype": "text/x-python",
   "name": "python",
   "nbconvert_exporter": "python",
   "pygments_lexer": "ipython3",
   "version": "3.10.7"
  }
 },
 "nbformat": 4,
 "nbformat_minor": 5
}
